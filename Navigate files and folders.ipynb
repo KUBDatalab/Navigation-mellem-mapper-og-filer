{
 "cells": [
  {
   "cell_type": "markdown",
   "metadata": {},
   "source": [
    "Formålet med denne notebook er at opnå kendskab til, hvordan man ved hjælp af kommandoer kan navigere rundt mellem computerens forskellige filer og foldere. Dette er meget relevant, når man f.eks. skal angive en sti til en tekst fil, som man skal bruge i et program.\n",
    "\n",
    "Når man arbejder med python og vil bevæge sig mellem forskellige foldere og angive stier til forskellige filer, så kan man importere et modul, der hedder 'os'."
   ]
  },
  {
   "cell_type": "code",
   "execution_count": 1,
   "metadata": {},
   "outputs": [],
   "source": [
    "import os"
   ]
  },
  {
   "cell_type": "markdown",
   "metadata": {},
   "source": [
    "Skriver man \"os.sep\" bliver outputtet enten \\\\ ''eller '/' afhængigt af om du bruger en mac eller en pc. "
   ]
  },
  {
   "cell_type": "code",
   "execution_count": 2,
   "metadata": {},
   "outputs": [
    {
     "data": {
      "text/plain": [
       "'\\\\'"
      ]
     },
     "execution_count": 2,
     "metadata": {},
     "output_type": "execute_result"
    }
   ],
   "source": [
    "os.sep"
   ]
  },
  {
   "cell_type": "markdown",
   "metadata": {},
   "source": [
    "For at få vist hvilken folder man befinder sig i for øjeblikket, kan man skrive 'os.getcwd()'. 'cwd' står for 'current working directory'"
   ]
  },
  {
   "cell_type": "code",
   "execution_count": 3,
   "metadata": {},
   "outputs": [
    {
     "data": {
      "text/plain": [
       "'C:\\\\Users\\\\lakj'"
      ]
     },
     "execution_count": 3,
     "metadata": {},
     "output_type": "execute_result"
    }
   ],
   "source": [
    "os.getcwd()"
   ]
  },
  {
   "cell_type": "markdown",
   "metadata": {},
   "source": [
    "Man kan rykke til en ny folder ved at bruge 'os.chdir()' og så kan man lige check om man ér rykket med 'os.getcwd()."
   ]
  },
  {
   "cell_type": "code",
   "execution_count": 4,
   "metadata": {},
   "outputs": [
    {
     "data": {
      "text/plain": [
       "'C:\\\\Users\\\\lakj\\\\Desktop'"
      ]
     },
     "execution_count": 4,
     "metadata": {},
     "output_type": "execute_result"
    }
   ],
   "source": [
    "os.chdir('C:\\\\Users\\\\lakj\\\\Desktop')\n",
    "os.getcwd()"
   ]
  },
  {
   "cell_type": "markdown",
   "metadata": {},
   "source": [
    "En ret fed funktion er 'os.listdir()', som man kan bruge til at få en liste over det, der ligger i folderen."
   ]
  },
  {
   "cell_type": "code",
   "execution_count": null,
   "metadata": {},
   "outputs": [],
   "source": [
    "os.chdir('C:\\\\Users\\\\lakj\\\\\\Desktop')\n",
    "os.listdir()"
   ]
  },
  {
   "cell_type": "markdown",
   "metadata": {},
   "source": [
    "Opgave:\n",
    "Bevæg dig rundt på computeren. Bliv vant til at bevæg dig ind og ud af mapper. Oplev hvordan forskellige filetyper optræder i Jupyter, når du bruger 'os.listdir()'. Brug 'os.chdir()', 'os.getcw()' og 'os.listdir()'."
   ]
  },
  {
   "cell_type": "markdown",
   "metadata": {},
   "source": [
    "# Opret nye mapper og fjern mapper"
   ]
  },
  {
   "cell_type": "markdown",
   "metadata": {},
   "source": [
    "Man kan lave en ny mappe ved at bruge 'os.mkdir()'"
   ]
  },
  {
   "cell_type": "code",
   "execution_count": null,
   "metadata": {},
   "outputs": [],
   "source": [
    "os.mkdir('ny mappe')"
   ]
  },
  {
   "cell_type": "markdown",
   "metadata": {},
   "source": [
    "Man kan fjerne mappen igen med os.rmdir()"
   ]
  },
  {
   "cell_type": "code",
   "execution_count": null,
   "metadata": {},
   "outputs": [],
   "source": [
    "os.rmdir('ny mappe')"
   ]
  },
  {
   "cell_type": "markdown",
   "metadata": {},
   "source": [
    "Opgave: Prøv at lave den ny mappe igen"
   ]
  },
  {
   "cell_type": "code",
   "execution_count": null,
   "metadata": {},
   "outputs": [],
   "source": [
    "os.mkdir('ny mappe')"
   ]
  },
  {
   "cell_type": "markdown",
   "metadata": {},
   "source": [
    "Opgave: Prøv at rykke til den mappe"
   ]
  },
  {
   "cell_type": "code",
   "execution_count": null,
   "metadata": {},
   "outputs": [],
   "source": [
    "os.chdir('C:\\\\Users\\\\lakj\\\\\\Desktop\\\\ny mappe')\n",
    "os.getcwd()"
   ]
  },
  {
   "cell_type": "markdown",
   "metadata": {},
   "source": [
    "Man kan lave flere mapper på en gang ved at lave en liste med navnene på mapperne, og herefter bruge en for-løkke til at oprette mapperne "
   ]
  },
  {
   "cell_type": "code",
   "execution_count": null,
   "metadata": {},
   "outputs": [],
   "source": [
    "os.chdir('C:\\\\Users\\\\lakj\\\\\\Desktop\\\\ny mappe')\n",
    "mapper = ['mappe_1','mappe_2','mappe_3']\n",
    "for mappe in mapper:\n",
    "    os.mkdir(mappe)"
   ]
  },
  {
   "cell_type": "markdown",
   "metadata": {},
   "source": [
    "Opgave: prøv at kør foregående linje igen. Forklar, hvad der sker. Svar: der opstår en fejl, fordi mapperne allerede eksisterer."
   ]
  },
  {
   "cell_type": "markdown",
   "metadata": {},
   "source": [
    "Opgave: kan vi slette mapperne ved at bruge en liste med navnene på mapperne, en for-løkke og 'os.rmdir()'?"
   ]
  },
  {
   "cell_type": "code",
   "execution_count": null,
   "metadata": {},
   "outputs": [],
   "source": [
    "mapper = ['mappe_1','mappe_2','mappe_3']\n",
    "for mappe in mapper:\n",
    "    os.rmdir(mappe)"
   ]
  },
  {
   "cell_type": "markdown",
   "metadata": {},
   "source": [
    "Der er mange flere kommandoer i os modulet. Man kan få dem vist ved at skrive 'help(os)'."
   ]
  },
  {
   "cell_type": "code",
   "execution_count": null,
   "metadata": {},
   "outputs": [],
   "source": [
    "help(os)"
   ]
  },
  {
   "cell_type": "markdown",
   "metadata": {},
   "source": [
    "# Flyt filer mellem mapper"
   ]
  },
  {
   "cell_type": "markdown",
   "metadata": {},
   "source": [
    "Lad os oprette mapperne igen"
   ]
  },
  {
   "cell_type": "code",
   "execution_count": null,
   "metadata": {},
   "outputs": [],
   "source": [
    "os.chdir('C:\\\\Users\\\\lakj\\\\\\Desktop\\\\ny mappe')\n",
    "mapper = ['mappe_1','mappe_2','mappe_3']\n",
    "for mappe in mapper:\n",
    "    os.mkdir(mappe)"
   ]
  },
  {
   "cell_type": "markdown",
   "metadata": {},
   "source": [
    "Og lad os oprette en fil og flytte den mellem forskellige mapper. Vi begynder med at placere os i den rigtige mappe og herefter skriver vi en tekst streng og gennem den i filen."
   ]
  },
  {
   "cell_type": "code",
   "execution_count": null,
   "metadata": {},
   "outputs": [],
   "source": [
    "os.chdir('C:\\\\Users\\\\lakj\\\\\\Desktop\\\\ny mappe\\\\mappe_1')\n",
    "text = \"random tekststreng\"\n",
    "newfile = open (\"min fil.txt\", \"w\")\n",
    "newfile.write(text)\n",
    "newfile.close()"
   ]
  },
  {
   "cell_type": "markdown",
   "metadata": {},
   "source": [
    "For at kunne flytte en fil mellem mapperne, så skal vi foruden 'os' også bruge et modul, der hedder 'shutil', så den skal vi begynde med at importere. Vi skal bruge en fil, som vi vil flytte, og vi gemmer filnavnet i variablen 'file'. I variablen 'distiantion' gemmer vi stien til den mappe, som vi vil flytte filen til. Vi bruger 'shutil.move()' til at flytte 'file' til 'destination'. "
   ]
  },
  {
   "cell_type": "code",
   "execution_count": null,
   "metadata": {},
   "outputs": [],
   "source": [
    "import shutil\n",
    "\n",
    "os.chdir('C:\\\\Users\\\\lakj\\\\\\Desktop\\\\ny mappe\\\\mappe_1')\n",
    "\n",
    "file = 'min fil.txt'\n",
    "\n",
    "destination = 'C:\\\\Users\\\\lakj\\\\\\Desktop\\\\ny mappe\\\\mappe_2'\n",
    "\n",
    "new_path = shutil.move(file, destination)\n",
    "\n",
    "print(new_path)"
   ]
  },
  {
   "cell_type": "markdown",
   "metadata": {},
   "source": [
    "\n",
    "    "
   ]
  },
  {
   "cell_type": "code",
   "execution_count": null,
   "metadata": {},
   "outputs": [],
   "source": [
    "os.chdir('C:\\\\Users\\\\lakj\\\\Desktop\\\\ny mappe\\\\mappe_2')\n",
    "os.listdir()"
   ]
  },
  {
   "cell_type": "markdown",
   "metadata": {},
   "source": [
    "'Shutil.move()' kan også bruges til at flytte mapper mellem andre mapper."
   ]
  },
  {
   "cell_type": "code",
   "execution_count": null,
   "metadata": {},
   "outputs": [],
   "source": [
    "os.chdir('C:\\\\Users\\\\lakj\\\\Desktop')\n",
    "\n",
    "folder = 'ny mappe'\n",
    "\n",
    "destination = 'C:\\\\Users\\\\lakj'\n",
    "\n",
    "new_path = shutil.move(folder, destination)\n",
    "\n",
    "print(new_path)"
   ]
  },
  {
   "cell_type": "markdown",
   "metadata": {},
   "source": [
    "Perspektiver: Vi kunne flytte mange filer, vi kunne kopier filer fra en mappe til en anden mappe. Vi kan køre vores kode fra én mappe og gøre brug af filer, der ligger i andre mapper."
   ]
  }
 ],
 "metadata": {
  "kernelspec": {
   "display_name": "Python 3",
   "language": "python",
   "name": "python3"
  },
  "language_info": {
   "codemirror_mode": {
    "name": "ipython",
    "version": 3
   },
   "file_extension": ".py",
   "mimetype": "text/x-python",
   "name": "python",
   "nbconvert_exporter": "python",
   "pygments_lexer": "ipython3",
   "version": "3.7.6"
  }
 },
 "nbformat": 4,
 "nbformat_minor": 2
}
